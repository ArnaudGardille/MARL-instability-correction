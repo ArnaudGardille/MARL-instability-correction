{
  "cells": [
    {
      "cell_type": "markdown",
      "metadata": {},
      "source": [
        "\n",
        "# Using Replay Buffers\n",
        "\n",
        "**Author**: [Vincent Moens](https://github.com/vmoens)\n"
      ]
    },
    {
      "cell_type": "markdown",
      "metadata": {},
      "source": [
        "Replay buffers are a central piece of any RL or control algorithm.\n",
        "Supervised learning methods are usually characterized by a training loop\n",
        "where data is randomly pulled from a static dataset and fed successively\n",
        "to the model and loss function.\n",
        "In RL, things are often slightly different: the data is gathered using the\n",
        "model, then temporarily stored in a dynamic structure (the experience\n",
        "replay buffer), which serves as dataset for the loss module.\n",
        "\n",
        "As always, the context in which the buffer is used drastically conditions\n",
        "how it is built: some may wish to store trajectories when others will want\n",
        "to store single transitions. Specific sampling strategies may be preferable\n",
        "in contexts: some items can have a higher priority than others, or it can\n",
        "be important to sample with or without replacement.\n",
        "Computational factors may also come into play, such as the size of the buffer\n",
        "which may exceed the available RAM storage.\n",
        "\n",
        "For these reasons, TorchRL's replay buffers are fully composable: although\n",
        "they come with \"batteries included\", requiring a minimal effort to be built,\n",
        "they also support many customizations such as storage type,\n",
        "sampling strategy or data transforms.\n",
        "\n",
        "\n",
        "In this tutorial, you will learn:\n",
        "- How to build a Replay Buffer (RB) and use it with any datatype;\n",
        "- How to use RBs with TensorDict;\n",
        "- How to sample from or iterate over a replay buffer, and how to define the sampling strategy;\n",
        "- How to use prioritized replay buffers;\n",
        "- How to transform data coming in and out from the buffer;\n",
        "- How to store trajectories in the buffer.\n",
        "\n",
        "\n",
        "## Basics: building a vanilla replay buffer\n",
        "\n",
        "TorchRL's replay buffers are designed to prioritize modularity,\n",
        "composability, efficiency, and simplicity. For instance, creating a basic\n",
        "replay buffer is a straightforward process, as shown in the following\n",
        "example:\n",
        "\n",
        "\n"
      ]
    },
    {
      "cell_type": "code",
      "execution_count": 1,
      "metadata": {
        "collapsed": false
      },
      "outputs": [],
      "source": [
        "from torchrl.data import ReplayBuffer\n",
        "\n",
        "buffer = ReplayBuffer()"
      ]
    },
    {
      "cell_type": "markdown",
      "metadata": {},
      "source": [
        "By default, this replay buffer will have a size of 1000. Let's check this\n",
        "by populating our buffer using the :meth:`torchrl.data.ReplayBuffer.extend`\n",
        "method:\n",
        "\n",
        "\n"
      ]
    },
    {
      "cell_type": "code",
      "execution_count": 2,
      "metadata": {
        "collapsed": false
      },
      "outputs": [
        {
          "name": "stdout",
          "output_type": "stream",
          "text": [
            "length before adding elements: 0\n",
            "length after adding elements: 1000\n"
          ]
        }
      ],
      "source": [
        "print(\"length before adding elements:\", len(buffer))\n",
        "\n",
        "buffer.extend(range(2000))\n",
        "\n",
        "print(\"length after adding elements:\", len(buffer))\n",
        "\n",
        "import torch\n",
        "from tensordict import TensorDict"
      ]
    },
    {
      "cell_type": "markdown",
      "metadata": {},
      "source": [
        "We have used the :meth:`torchrl.data.ReplayBuffer.extend` method which is\n",
        "designed to add multiple items all at once. If the object that is passed\n",
        "to ``extend`` has more than one dimension, its first dimension is\n",
        "considered to be the one to be split in separate elements in the buffer.\n",
        "This essentially means that when adding multidimensional tensors or\n",
        "tensordicts to the buffer, the buffer will only look at the first dimension\n",
        "when counting the elements it holds in memory.\n",
        "If the object passed it not iterable, an exception will be thrown.\n",
        "\n",
        "To add items one at a time, the :meth:`torchrl.data.ReplayBuffer.add` method\n",
        "should be used instead.\n",
        "\n",
        "### Customizing the storage\n",
        "\n",
        "We see that the buffer has been capped to the first 1000 elements that we\n",
        "passed to it.\n",
        "To change the size, we need to customize our storage.\n",
        "\n",
        "TorchRL proposes three types of storages:\n",
        "\n",
        "- The :class:`torchrl.dataListStorage` stores elements independently in a\n",
        "  list. It supports any data type, but this flexibility comes at the cost\n",
        "  of efficiency;\n",
        "- The :class:`torchrl.dataLazyTensorStorage` stores tensors or\n",
        "  :class:`tensordidct.TensorDict` (or :class:`torchrl.data.tensorclass`)\n",
        "  objects. The storage is contiguous on a per-tensor basis, meaning that\n",
        "  sampling will be more efficient than when using a list, but the\n",
        "  implicit restriction is that any data passed to it must have the same\n",
        "  basic properties as the\n",
        "  first batch of data that was used to instantiate the buffer.\n",
        "  Passing data that does not match this requirement will either raise an\n",
        "  exception or lead to some undefined behaviours.\n",
        "- The :class:`torchrl.dataLazyMemmapStorage` works as the\n",
        "  :class:`torchrl.data.LazyTensorStorage` in that it is lazy (ie. it\n",
        "  expects the first batch of data to be instantiated), and it requires data\n",
        "  that match in shape and dtype for each batch stored. What makes this\n",
        "  storage unique is that it points to disk files, meaning that it can\n",
        "  support very large datasets while still accessing data in a contiguous\n",
        "  manner.\n",
        "\n",
        "Let us see how we can use each of these storages:\n",
        "\n"
      ]
    },
    {
      "cell_type": "code",
      "execution_count": 3,
      "metadata": {
        "collapsed": false
      },
      "outputs": [],
      "source": [
        "from torchrl.data import LazyMemmapStorage, LazyTensorStorage, ListStorage\n",
        "\n",
        "# We define the maximum size of the buffer\n",
        "size = 10_000"
      ]
    },
    {
      "cell_type": "markdown",
      "metadata": {},
      "source": [
        "A buffer with a list storage buffer can store any kind of data (but we must\n",
        "change the ``collate_fn`` since the default expects numerical data):\n",
        "\n"
      ]
    },
    {
      "cell_type": "code",
      "execution_count": 4,
      "metadata": {
        "collapsed": false
      },
      "outputs": [
        {
          "name": "stdout",
          "output_type": "stream",
          "text": [
            "[0, 'a', 'a']\n"
          ]
        }
      ],
      "source": [
        "buffer_list = ReplayBuffer(storage=ListStorage(size), collate_fn=lambda x: x)\n",
        "buffer_list.extend([\"a\", 0, \"b\"])\n",
        "print(buffer_list.sample(3))"
      ]
    },
    {
      "cell_type": "markdown",
      "metadata": {},
      "source": [
        "Because it is the one with the lowest amount of assumption, the\n",
        ":class:`torchrl.data.ListStorage` is the default storage in TorchRL.\n",
        "\n",
        "A :class:`torchrl.data.LazyTensorStorage` can store data contiguously.\n",
        "This should be the preferred option when dealing with complicated but\n",
        "unchanging data structures of medium size:\n",
        "\n"
      ]
    },
    {
      "cell_type": "code",
      "execution_count": 5,
      "metadata": {
        "collapsed": false
      },
      "outputs": [],
      "source": [
        "buffer_lazytensor = ReplayBuffer(storage=LazyTensorStorage(size))"
      ]
    },
    {
      "cell_type": "markdown",
      "metadata": {},
      "source": [
        "Let us create a batch of data of size ``torch.Size([3])` with 2 tensors\n",
        "stored in it:\n",
        "\n",
        "\n"
      ]
    },
    {
      "cell_type": "code",
      "execution_count": 6,
      "metadata": {
        "collapsed": false
      },
      "outputs": [
        {
          "name": "stdout",
          "output_type": "stream",
          "text": [
            "TensorDict(\n",
            "    fields={\n",
            "        a: Tensor(shape=torch.Size([3, 4]), device=cpu, dtype=torch.int64, is_shared=False),\n",
            "        b: TensorDict(\n",
            "            fields={\n",
            "                c: Tensor(shape=torch.Size([3, 5]), device=cpu, dtype=torch.int64, is_shared=False)},\n",
            "            batch_size=torch.Size([3]),\n",
            "            device=None,\n",
            "            is_shared=False)},\n",
            "    batch_size=torch.Size([3]),\n",
            "    device=None,\n",
            "    is_shared=False)\n"
          ]
        }
      ],
      "source": [
        "data = TensorDict(\n",
        "    {\n",
        "        \"a\": torch.arange(12).view(3, 4),\n",
        "        (\"b\", \"c\"): torch.arange(15).view(3, 5),\n",
        "    },\n",
        "    batch_size=[3],\n",
        ")\n",
        "print(data)"
      ]
    },
    {
      "cell_type": "markdown",
      "metadata": {},
      "source": [
        "The first call to :meth:`torchrl.data.ReplayBuffer.extend` will\n",
        "instantiate the storage. The first dimension of the data is unbound into\n",
        "separate datapoints:\n",
        "\n"
      ]
    },
    {
      "cell_type": "code",
      "execution_count": 7,
      "metadata": {
        "collapsed": false
      },
      "outputs": [
        {
          "name": "stdout",
          "output_type": "stream",
          "text": [
            "The buffer has 3 elements\n"
          ]
        }
      ],
      "source": [
        "buffer_lazytensor.extend(data)\n",
        "print(f\"The buffer has {len(buffer_lazytensor)} elements\")"
      ]
    },
    {
      "cell_type": "markdown",
      "metadata": {},
      "source": [
        "Let us sample from the buffer, and print the data:\n",
        "\n",
        "\n"
      ]
    },
    {
      "cell_type": "code",
      "execution_count": 8,
      "metadata": {
        "collapsed": false
      },
      "outputs": [
        {
          "name": "stdout",
          "output_type": "stream",
          "text": [
            "samples tensor([[ 4,  5,  6,  7],\n",
            "        [ 0,  1,  2,  3],\n",
            "        [ 8,  9, 10, 11],\n",
            "        [ 0,  1,  2,  3],\n",
            "        [ 0,  1,  2,  3]]) tensor([[ 5,  6,  7,  8,  9],\n",
            "        [ 0,  1,  2,  3,  4],\n",
            "        [10, 11, 12, 13, 14],\n",
            "        [ 0,  1,  2,  3,  4],\n",
            "        [ 0,  1,  2,  3,  4]])\n"
          ]
        }
      ],
      "source": [
        "sample = buffer_lazytensor.sample(5)\n",
        "print(\"samples\", sample[\"a\"], sample[\"b\", \"c\"])"
      ]
    },
    {
      "cell_type": "markdown",
      "metadata": {},
      "source": [
        "A :class:`torchrl.data.LazyMemmapStorage` is created in the same manner:\n",
        "\n",
        "\n"
      ]
    },
    {
      "cell_type": "code",
      "execution_count": 9,
      "metadata": {
        "collapsed": false
      },
      "outputs": [
        {
          "name": "stdout",
          "output_type": "stream",
          "text": [
            "The buffer has 3 elements\n",
            "samples: a= tensor([[ 0,  1,  2,  3],\n",
            "        [ 8,  9, 10, 11],\n",
            "        [ 8,  9, 10, 11],\n",
            "        [ 0,  1,  2,  3],\n",
            "        [ 8,  9, 10, 11]]) \n",
            "('b', 'c'): tensor([[ 0,  1,  2,  3,  4],\n",
            "        [10, 11, 12, 13, 14],\n",
            "        [10, 11, 12, 13, 14],\n",
            "        [ 0,  1,  2,  3,  4],\n",
            "        [10, 11, 12, 13, 14]])\n"
          ]
        }
      ],
      "source": [
        "buffer_lazymemmap = ReplayBuffer(storage=LazyMemmapStorage(size))\n",
        "buffer_lazymemmap.extend(data)\n",
        "print(f\"The buffer has {len(buffer_lazymemmap)} elements\")\n",
        "sample = buffer_lazytensor.sample(5)\n",
        "print(\"samples: a=\", sample[\"a\"], \"\\n('b', 'c'):\", sample[\"b\", \"c\"])"
      ]
    },
    {
      "cell_type": "markdown",
      "metadata": {},
      "source": [
        "We can also customize the storage location on disk:\n",
        "\n",
        "\n"
      ]
    },
    {
      "cell_type": "code",
      "execution_count": 10,
      "metadata": {
        "collapsed": false
      },
      "outputs": [
        {
          "name": "stdout",
          "output_type": "stream",
          "text": [
            "The buffer has 3 elements\n",
            "the 'a' tensor is stored in /tmp/memmap/a.memmap\n",
            "the ('b', 'c') tensor is stored in /tmp/memmap/b/c.memmap\n"
          ]
        }
      ],
      "source": [
        "buffer_lazymemmap = ReplayBuffer(\n",
        "    storage=LazyMemmapStorage(size, scratch_dir=\"/tmp/memmap/\")\n",
        ")\n",
        "buffer_lazymemmap.extend(data)\n",
        "print(f\"The buffer has {len(buffer_lazymemmap)} elements\")\n",
        "print(\"the 'a' tensor is stored in\", buffer_lazymemmap._storage._storage[\"a\"].filename)\n",
        "print(\n",
        "    \"the ('b', 'c') tensor is stored in\",\n",
        "    buffer_lazymemmap._storage._storage[\"b\", \"c\"].filename,\n",
        ")"
      ]
    },
    {
      "cell_type": "markdown",
      "metadata": {},
      "source": [
        "## Integration with TensorDict\n",
        "\n",
        "The tensor location follows the same structure as the TensorDict that\n",
        "contains them: this makes it easy to save and load buffers during training.\n",
        "\n",
        "To use :class:`tensordict.TensorDict` as a data carrier at its fullest\n",
        "potential, the :class:`torchrl.data.TensorDictReplayBuffer` class should\n",
        "be used.\n",
        "One of its key benefits is its ability to handle the organization of sampled\n",
        "data, along with any additional information that may be required\n",
        "(such as sample indices).\n",
        "It can be built in the same manner as a standard :class:`torchrl.data.ReplayBuffer` and can\n",
        "generally be used interchangeably.\n",
        "\n",
        "\n"
      ]
    },
    {
      "cell_type": "code",
      "execution_count": 11,
      "metadata": {
        "collapsed": false
      },
      "outputs": [
        {
          "name": "stdout",
          "output_type": "stream",
          "text": [
            "The buffer has 3 elements\n",
            "sample: TensorDict(\n",
            "    fields={\n",
            "        a: MemmapTensor(shape=torch.Size([12, 4]), device=cpu, dtype=torch.int64, is_shared=False),\n",
            "        b: TensorDict(\n",
            "            fields={\n",
            "                c: MemmapTensor(shape=torch.Size([12, 5]), device=cpu, dtype=torch.int64, is_shared=False)},\n",
            "            batch_size=torch.Size([12]),\n",
            "            device=cpu,\n",
            "            is_shared=False),\n",
            "        index: Tensor(shape=torch.Size([12]), device=cpu, dtype=torch.int64, is_shared=False)},\n",
            "    batch_size=torch.Size([12]),\n",
            "    device=cpu,\n",
            "    is_shared=False)\n"
          ]
        }
      ],
      "source": [
        "from torchrl.data import TensorDictReplayBuffer\n",
        "\n",
        "buffer_lazymemmap = TensorDictReplayBuffer(\n",
        "    storage=LazyMemmapStorage(size, scratch_dir=\"/tmp/memmap/\"), batch_size=12\n",
        ")\n",
        "buffer_lazymemmap.extend(data)\n",
        "print(f\"The buffer has {len(buffer_lazymemmap)} elements\")\n",
        "sample = buffer_lazymemmap.sample()\n",
        "print(\"sample:\", sample)"
      ]
    },
    {
      "cell_type": "markdown",
      "metadata": {},
      "source": [
        "Our sample now has an extra ``\"index\"`` key that indicates what indices\n",
        "were sampled.\n",
        "Let us have a look at these indices:\n",
        "\n"
      ]
    },
    {
      "cell_type": "code",
      "execution_count": 12,
      "metadata": {
        "collapsed": false
      },
      "outputs": [
        {
          "name": "stdout",
          "output_type": "stream",
          "text": [
            "tensor([0, 1, 2, 1, 1, 2, 1, 2, 1, 2, 0, 1])\n"
          ]
        }
      ],
      "source": [
        "print(sample[\"index\"])"
      ]
    },
    {
      "cell_type": "markdown",
      "metadata": {},
      "source": [
        "### Integration with tensorclass\n",
        "\n",
        "The ReplayBuffer class and associated subclasses also work natively with\n",
        ":class:`tensordict.tensorclass` classes, which can conviniently be used to\n",
        "encode datasets in a more explicit manner:\n",
        "\n"
      ]
    },
    {
      "cell_type": "code",
      "execution_count": 13,
      "metadata": {
        "collapsed": false
      },
      "outputs": [
        {
          "name": "stdout",
          "output_type": "stream",
          "text": [
            "The buffer has 1000 elements\n",
            "sample: MyData(\n",
            "    images=MemmapTensor(shape=torch.Size([12, 64, 64, 3]), device=cpu, dtype=torch.int64, is_shared=False),\n",
            "    labels=MemmapTensor(shape=torch.Size([12]), device=cpu, dtype=torch.int64, is_shared=False),\n",
            "    batch_size=torch.Size([12]),\n",
            "    device=cpu,\n",
            "    is_shared=False)\n"
          ]
        }
      ],
      "source": [
        "from tensordict import tensorclass\n",
        "\n",
        "\n",
        "@tensorclass\n",
        "class MyData:\n",
        "    images: torch.Tensor\n",
        "    labels: torch.Tensor\n",
        "\n",
        "\n",
        "data = MyData(\n",
        "    images=torch.randint(\n",
        "        255,\n",
        "        (1000, 64, 64, 3),\n",
        "    ),\n",
        "    labels=torch.randint(100, (1000,)),\n",
        "    batch_size=[1000],\n",
        ")\n",
        "\n",
        "buffer_lazymemmap = TensorDictReplayBuffer(\n",
        "    storage=LazyMemmapStorage(size, scratch_dir=\"/tmp/memmap/\"), batch_size=12\n",
        ")\n",
        "buffer_lazymemmap.extend(data)\n",
        "print(f\"The buffer has {len(buffer_lazymemmap)} elements\")\n",
        "sample = buffer_lazymemmap.sample()\n",
        "print(\"sample:\", sample)"
      ]
    },
    {
      "cell_type": "markdown",
      "metadata": {},
      "source": [
        "As expected. the data has the proper class and shape!\n",
        "\n",
        "## Sampling and iterating over buffers\n",
        "\n",
        "Replay Buffers support multiple sampling strategies:\n",
        "\n",
        "- If the batch-size is fixed and can be defined at construction time, it can\n",
        "  be passed as keyword argument to the buffer;\n",
        "- With a fixed batch-size, the replay buffer can be iterated over to gather\n",
        "  samples;\n",
        "- If the batch-size is dynamic, it can be passed to the\n",
        "  :class:`torchrl.data.ReplayBuffer.sample` method\n",
        "  on-the-fly.\n",
        "\n",
        "Sampling can be done using multithreading, but this is incompatible with the\n",
        "last option (at it requires the buffer to know in advance the size of the\n",
        "next batch).\n",
        "\n",
        "Let us see a few examples:\n",
        "\n",
        "### Fixed batch-size\n",
        "If the batch-size is passed during construction, it should be ommited when\n",
        "sampling:\n",
        "\n"
      ]
    },
    {
      "cell_type": "code",
      "execution_count": 14,
      "metadata": {
        "collapsed": false
      },
      "outputs": [
        {
          "data": {
            "text/plain": [
              "MyData(\n",
              "    images=MemmapTensor(shape=torch.Size([128, 64, 64, 3]), device=cpu, dtype=torch.int64, is_shared=False),\n",
              "    labels=MemmapTensor(shape=torch.Size([128]), device=cpu, dtype=torch.int64, is_shared=False),\n",
              "    batch_size=torch.Size([128]),\n",
              "    device=cpu,\n",
              "    is_shared=False)"
            ]
          },
          "execution_count": 14,
          "metadata": {},
          "output_type": "execute_result"
        }
      ],
      "source": [
        "buffer_lazymemmap = ReplayBuffer(storage=LazyMemmapStorage(size), batch_size=128)\n",
        "buffer_lazymemmap.extend(data)\n",
        "buffer_lazymemmap.sample()"
      ]
    },
    {
      "cell_type": "markdown",
      "metadata": {},
      "source": [
        "This batch of data has the size that we wanted it to have (128).\n",
        "\n",
        "To enable multithreaded sampling, just pass a positive integer to the\n",
        "``prefetch`` keyword argument during construction. This should speed up\n",
        "sampling considerably:\n",
        "\n"
      ]
    },
    {
      "cell_type": "code",
      "execution_count": 15,
      "metadata": {
        "collapsed": false
      },
      "outputs": [
        {
          "name": "stdout",
          "output_type": "stream",
          "text": [
            "MyData(\n",
            "    images=MemmapTensor(shape=torch.Size([128, 64, 64, 3]), device=cpu, dtype=torch.int64, is_shared=False),\n",
            "    labels=MemmapTensor(shape=torch.Size([128]), device=cpu, dtype=torch.int64, is_shared=False),\n",
            "    batch_size=torch.Size([128]),\n",
            "    device=cpu,\n",
            "    is_shared=False)\n"
          ]
        }
      ],
      "source": [
        "buffer_lazymemmap = ReplayBuffer(\n",
        "    storage=LazyMemmapStorage(size), batch_size=128, prefetch=10\n",
        ")  # creates a queue of 10 elements to be prefetched in the background\n",
        "buffer_lazymemmap.extend(data)\n",
        "print(buffer_lazymemmap.sample())"
      ]
    },
    {
      "cell_type": "markdown",
      "metadata": {},
      "source": [
        "### Fixed batch-size, iterating over the buffer\n",
        "\n",
        "We can also iterate over the buffer like we would do with a regular\n",
        "dataloader, as long as the batch-size is predefined:\n",
        "\n"
      ]
    },
    {
      "cell_type": "code",
      "execution_count": 16,
      "metadata": {
        "collapsed": false
      },
      "outputs": [
        {
          "name": "stdout",
          "output_type": "stream",
          "text": [
            "MyData(\n",
            "    images=MemmapTensor(shape=torch.Size([128, 64, 64, 3]), device=cpu, dtype=torch.int64, is_shared=False),\n",
            "    labels=MemmapTensor(shape=torch.Size([128]), device=cpu, dtype=torch.int64, is_shared=False),\n",
            "    batch_size=torch.Size([128]),\n",
            "    device=cpu,\n",
            "    is_shared=False)\n"
          ]
        }
      ],
      "source": [
        "for i, data in enumerate(buffer_lazymemmap):\n",
        "    if i == 3:\n",
        "        print(data)\n",
        "        break"
      ]
    },
    {
      "cell_type": "markdown",
      "metadata": {},
      "source": [
        "Due to the fact that our sampling technique is entirely random and does not\n",
        "prevent replacement, the iterator in question is infinite. However, we can\n",
        "make use of the :class:`torchrl.data.replay_buffers.SamplerWithoutReplacement`\n",
        "instead, which will transform our buffer into a finite iterator:\n",
        "\n",
        "\n"
      ]
    },
    {
      "cell_type": "code",
      "execution_count": 17,
      "metadata": {
        "collapsed": false
      },
      "outputs": [],
      "source": [
        "from torchrl.data.replay_buffers.samplers import SamplerWithoutReplacement\n",
        "\n",
        "buffer_lazymemmap = ReplayBuffer(\n",
        "    storage=LazyMemmapStorage(size), batch_size=32, sampler=SamplerWithoutReplacement()\n",
        ")"
      ]
    },
    {
      "cell_type": "markdown",
      "metadata": {},
      "source": [
        "we create a data that is big enough to get a couple of samples\n",
        "\n"
      ]
    },
    {
      "cell_type": "code",
      "execution_count": 18,
      "metadata": {
        "collapsed": false
      },
      "outputs": [
        {
          "name": "stdout",
          "output_type": "stream",
          "text": [
            "A total of 4 batches have been collected\n"
          ]
        }
      ],
      "source": [
        "data = TensorDict(\n",
        "    {\n",
        "        \"a\": torch.arange(512).view(128, 4),\n",
        "        (\"b\", \"c\"): torch.arange(1024).view(128, 8),\n",
        "    },\n",
        "    batch_size=[128],\n",
        ")\n",
        "\n",
        "buffer_lazymemmap.extend(data)\n",
        "for _i, _ in enumerate(buffer_lazymemmap):\n",
        "    continue\n",
        "print(f\"A total of {_i+1} batches have been collected\")"
      ]
    },
    {
      "cell_type": "markdown",
      "metadata": {},
      "source": [
        "### Dynamic batch-size\n",
        "\n",
        "In contrast to what we have seen earlier, the ``batch_size`` keyword\n",
        "argument can be omitted and passed directly to the `sample` method:\n",
        "\n"
      ]
    },
    {
      "cell_type": "code",
      "execution_count": 19,
      "metadata": {
        "collapsed": false
      },
      "outputs": [
        {
          "name": "stdout",
          "output_type": "stream",
          "text": [
            "sampling 3 elements: TensorDict(\n",
            "    fields={\n",
            "        a: MemmapTensor(shape=torch.Size([3, 4]), device=cpu, dtype=torch.int64, is_shared=False),\n",
            "        b: TensorDict(\n",
            "            fields={\n",
            "                c: MemmapTensor(shape=torch.Size([3, 8]), device=cpu, dtype=torch.int64, is_shared=False)},\n",
            "            batch_size=torch.Size([3]),\n",
            "            device=cpu,\n",
            "            is_shared=False)},\n",
            "    batch_size=torch.Size([3]),\n",
            "    device=cpu,\n",
            "    is_shared=False)\n",
            "sampling 5 elements: TensorDict(\n",
            "    fields={\n",
            "        a: MemmapTensor(shape=torch.Size([5, 4]), device=cpu, dtype=torch.int64, is_shared=False),\n",
            "        b: TensorDict(\n",
            "            fields={\n",
            "                c: MemmapTensor(shape=torch.Size([5, 8]), device=cpu, dtype=torch.int64, is_shared=False)},\n",
            "            batch_size=torch.Size([5]),\n",
            "            device=cpu,\n",
            "            is_shared=False)},\n",
            "    batch_size=torch.Size([5]),\n",
            "    device=cpu,\n",
            "    is_shared=False)\n"
          ]
        }
      ],
      "source": [
        "buffer_lazymemmap = ReplayBuffer(\n",
        "    storage=LazyMemmapStorage(size), sampler=SamplerWithoutReplacement()\n",
        ")\n",
        "buffer_lazymemmap.extend(data)\n",
        "print(\"sampling 3 elements:\", buffer_lazymemmap.sample(3))\n",
        "print(\"sampling 5 elements:\", buffer_lazymemmap.sample(5))"
      ]
    },
    {
      "cell_type": "markdown",
      "metadata": {},
      "source": [
        "## Prioritized Replay buffers\n",
        "\n",
        "TorchRL also provides an interface for prioritized replay buffers.\n",
        "This buffer class samples data according to a priority signal that is passed\n",
        "through the data.\n",
        "\n",
        "Although this tool is compatible with non-tensordict data, we encourage\n",
        "using TensorDict instead as it makes it possible to carry meta-data in and\n",
        "out from the buffer with little effort.\n",
        "\n",
        "Let us first see how to build a prioritized replay buffer in the generic\n",
        "case. The $\\alpha$ and $\\beta$ hyperparameters\n",
        "have to be manually set:\n",
        "\n"
      ]
    },
    {
      "cell_type": "code",
      "execution_count": 20,
      "metadata": {
        "collapsed": false
      },
      "outputs": [],
      "source": [
        "from torchrl.data.replay_buffers.samplers import PrioritizedSampler\n",
        "\n",
        "size = 1000\n",
        "\n",
        "rb = ReplayBuffer(\n",
        "    storage=ListStorage(size),\n",
        "    sampler=PrioritizedSampler(max_capacity=size, alpha=0.8, beta=1.1),\n",
        "    collate_fn=lambda x: x,\n",
        ")"
      ]
    },
    {
      "cell_type": "markdown",
      "metadata": {},
      "source": [
        "Extending the replay buffer returns the items indices, which we will need\n",
        "later to update the priority:\n",
        "\n"
      ]
    },
    {
      "cell_type": "code",
      "execution_count": 21,
      "metadata": {
        "collapsed": false
      },
      "outputs": [],
      "source": [
        "indices = rb.extend([1, \"foo\", None])"
      ]
    },
    {
      "cell_type": "markdown",
      "metadata": {},
      "source": [
        "The sampler expects to have a priority for each element. When added to the\n",
        "buffer, the priority is set to a default value of 1. Once the priority has\n",
        "been computed (usually through the loss), it must be updated in the buffer.\n",
        "\n",
        "This is done via the `update_priority` method, which requires the indices\n",
        "as well as the priority.\n",
        "We assign an artificially high priority to the second sample in the dataset\n",
        "to observe its effect on sampling:\n",
        "\n",
        "\n"
      ]
    },
    {
      "cell_type": "code",
      "execution_count": 22,
      "metadata": {
        "collapsed": false
      },
      "outputs": [],
      "source": [
        "rb.update_priority(index=indices, priority=torch.tensor([1e-08, 1_000, 0.1]))"
      ]
    },
    {
      "cell_type": "markdown",
      "metadata": {},
      "source": [
        "We observe that sampling from the buffer returns mostly the second sample\n",
        "(``\"foo\"``):\n",
        "\n",
        "\n"
      ]
    },
    {
      "cell_type": "code",
      "execution_count": 23,
      "metadata": {
        "collapsed": false
      },
      "outputs": [
        {
          "name": "stdout",
          "output_type": "stream",
          "text": [
            "['foo', 'foo', 'foo', 'foo', 'foo', 'foo', 'foo', 'foo', 'foo', 'foo']\n"
          ]
        }
      ],
      "source": [
        "sample, info = rb.sample(10, return_info=True)\n",
        "print(sample)"
      ]
    },
    {
      "cell_type": "markdown",
      "metadata": {},
      "source": [
        "The info contains the relative weights of the items as well as the indices.\n",
        "\n"
      ]
    },
    {
      "cell_type": "code",
      "execution_count": 24,
      "metadata": {
        "collapsed": false
      },
      "outputs": [
        {
          "name": "stdout",
          "output_type": "stream",
          "text": [
            "{'_weight': array([3.845086e-10, 3.845086e-10, 3.845086e-10, 3.845086e-10,\n",
            "       3.845086e-10, 3.845086e-10, 3.845086e-10, 3.845086e-10,\n",
            "       3.845086e-10, 3.845086e-10], dtype=float32), 'index': array([1, 1, 1, 1, 1, 1, 1, 1, 1, 1])}\n"
          ]
        }
      ],
      "source": [
        "print(info)"
      ]
    },
    {
      "cell_type": "code",
      "execution_count": 25,
      "metadata": {},
      "outputs": [
        {
          "data": {
            "text/plain": [
              "tensor([1.0000e+00, 2.0893e-10, 6.9183e-07])"
            ]
          },
          "execution_count": 25,
          "metadata": {},
          "output_type": "execute_result"
        }
      ],
      "source": [
        "prios = torch.tensor([1e-08, 1_000, 0.1])**0.8\n",
        "prios /= prios.sum()\n",
        "w = (1000*prios)**(-1.1)\n",
        "w /= w.max()\n",
        "w"
      ]
    },
    {
      "cell_type": "code",
      "execution_count": 43,
      "metadata": {},
      "outputs": [
        {
          "ename": "KeyboardInterrupt",
          "evalue": "",
          "output_type": "error",
          "traceback": [
            "\u001b[0;31m---------------------------------------------------------------------------\u001b[0m",
            "\u001b[0;31mKeyboardInterrupt\u001b[0m                         Traceback (most recent call last)",
            "Cell \u001b[0;32mIn[43], line 14\u001b[0m\n\u001b[1;32m      1\u001b[0m \u001b[39mfrom\u001b[39;00m \u001b[39mtorchrl\u001b[39;00m\u001b[39m.\u001b[39;00m\u001b[39mdata\u001b[39;00m \u001b[39mimport\u001b[39;00m LazyTensorStorage, LazyMemmapStorage, ListStorage, TensorDictPrioritizedReplayBuffer\n\u001b[1;32m      4\u001b[0m rb \u001b[39m=\u001b[39m TensorDictPrioritizedReplayBuffer(\n\u001b[1;32m      5\u001b[0m                 alpha \u001b[39m=\u001b[39m \u001b[39m1.0\u001b[39m,\u001b[39m#0.7,\u001b[39;00m\n\u001b[1;32m      6\u001b[0m                 beta \u001b[39m=\u001b[39m \u001b[39m1.0\u001b[39m,\u001b[39m#1.1,\u001b[39;00m\n\u001b[0;32m   (...)\u001b[0m\n\u001b[1;32m     11\u001b[0m                 batch_size\u001b[39m=\u001b[39m\u001b[39m10\u001b[39m,\n\u001b[1;32m     12\u001b[0m             )\n\u001b[0;32m---> 14\u001b[0m indices \u001b[39m=\u001b[39m rb\u001b[39m.\u001b[39;49madd(data)\n",
            "File \u001b[0;32m~/.conda/envs/torch_rl/lib/python3.9/site-packages/torchrl/data/replay_buffers/replay_buffers.py:703\u001b[0m, in \u001b[0;36mTensorDictReplayBuffer.add\u001b[0;34m(self, data)\u001b[0m\n\u001b[1;32m    701\u001b[0m \u001b[39melse\u001b[39;00m:\n\u001b[1;32m    702\u001b[0m     data_add \u001b[39m=\u001b[39m data\n\u001b[0;32m--> 703\u001b[0m index \u001b[39m=\u001b[39m \u001b[39msuper\u001b[39;49m()\u001b[39m.\u001b[39;49madd(data_add)\n\u001b[1;32m    704\u001b[0m \u001b[39mif\u001b[39;00m is_tensor_collection(data_add):\n\u001b[1;32m    705\u001b[0m     data_add\u001b[39m.\u001b[39mset(\u001b[39m\"\u001b[39m\u001b[39mindex\u001b[39m\u001b[39m\"\u001b[39m, index)\n",
            "File \u001b[0;32m~/.conda/envs/torch_rl/lib/python3.9/site-packages/torchrl/data/replay_buffers/replay_buffers.py:299\u001b[0m, in \u001b[0;36mReplayBuffer.add\u001b[0;34m(self, data)\u001b[0m\n\u001b[1;32m    290\u001b[0m \u001b[39m\u001b[39m\u001b[39m\"\"\"Add a single element to the replay buffer.\u001b[39;00m\n\u001b[1;32m    291\u001b[0m \n\u001b[1;32m    292\u001b[0m \u001b[39mArgs:\u001b[39;00m\n\u001b[0;32m   (...)\u001b[0m\n\u001b[1;32m    296\u001b[0m \u001b[39m    index where the data lives in the replay buffer.\u001b[39;00m\n\u001b[1;32m    297\u001b[0m \u001b[39m\"\"\"\u001b[39;00m\n\u001b[1;32m    298\u001b[0m \u001b[39mwith\u001b[39;00m \u001b[39mself\u001b[39m\u001b[39m.\u001b[39m_replay_lock:\n\u001b[0;32m--> 299\u001b[0m     index \u001b[39m=\u001b[39m \u001b[39mself\u001b[39;49m\u001b[39m.\u001b[39;49m_writer\u001b[39m.\u001b[39;49madd(data)\n\u001b[1;32m    300\u001b[0m     \u001b[39mself\u001b[39m\u001b[39m.\u001b[39m_sampler\u001b[39m.\u001b[39madd(index)\n\u001b[1;32m    301\u001b[0m \u001b[39mreturn\u001b[39;00m index\n",
            "File \u001b[0;32m~/.conda/envs/torch_rl/lib/python3.9/site-packages/torchrl/data/replay_buffers/writers.py:50\u001b[0m, in \u001b[0;36mRoundRobinWriter.add\u001b[0;34m(self, data)\u001b[0m\n\u001b[1;32m     48\u001b[0m \u001b[39mdef\u001b[39;00m \u001b[39madd\u001b[39m(\u001b[39mself\u001b[39m, data: Any) \u001b[39m-\u001b[39m\u001b[39m>\u001b[39m \u001b[39mint\u001b[39m:\n\u001b[1;32m     49\u001b[0m     ret \u001b[39m=\u001b[39m \u001b[39mself\u001b[39m\u001b[39m.\u001b[39m_cursor\n\u001b[0;32m---> 50\u001b[0m     \u001b[39mself\u001b[39m\u001b[39m.\u001b[39m_storage[\u001b[39mself\u001b[39m\u001b[39m.\u001b[39m_cursor] \u001b[39m=\u001b[39m data\n\u001b[1;32m     51\u001b[0m     \u001b[39mself\u001b[39m\u001b[39m.\u001b[39m_cursor \u001b[39m=\u001b[39m (\u001b[39mself\u001b[39m\u001b[39m.\u001b[39m_cursor \u001b[39m+\u001b[39m \u001b[39m1\u001b[39m) \u001b[39m%\u001b[39m \u001b[39mself\u001b[39m\u001b[39m.\u001b[39m_storage\u001b[39m.\u001b[39mmax_size\n\u001b[1;32m     52\u001b[0m     \u001b[39mreturn\u001b[39;00m ret\n",
            "File \u001b[0;32m~/.conda/envs/torch_rl/lib/python3.9/site-packages/torchrl/data/replay_buffers/storages.py:72\u001b[0m, in \u001b[0;36mStorage.__setitem__\u001b[0;34m(self, index, value)\u001b[0m\n\u001b[1;32m     71\u001b[0m \u001b[39mdef\u001b[39;00m \u001b[39m__setitem__\u001b[39m(\u001b[39mself\u001b[39m, index, value):\n\u001b[0;32m---> 72\u001b[0m     ret \u001b[39m=\u001b[39m \u001b[39mself\u001b[39;49m\u001b[39m.\u001b[39;49mset(index, value)\n\u001b[1;32m     73\u001b[0m     \u001b[39mfor\u001b[39;00m ent \u001b[39min\u001b[39;00m \u001b[39mself\u001b[39m\u001b[39m.\u001b[39m_attached_entities:\n\u001b[1;32m     74\u001b[0m         ent\u001b[39m.\u001b[39mmark_update(index)\n",
            "File \u001b[0;32m~/.conda/envs/torch_rl/lib/python3.9/site-packages/torchrl/data/replay_buffers/storages.py:268\u001b[0m, in \u001b[0;36mLazyTensorStorage.set\u001b[0;34m(self, cursor, data)\u001b[0m\n\u001b[1;32m    266\u001b[0m         \u001b[39mself\u001b[39m\u001b[39m.\u001b[39m_init(data[\u001b[39m0\u001b[39m])\n\u001b[1;32m    267\u001b[0m     \u001b[39melse\u001b[39;00m:\n\u001b[0;32m--> 268\u001b[0m         \u001b[39mself\u001b[39;49m\u001b[39m.\u001b[39;49m_init(data)\n\u001b[1;32m    269\u001b[0m \u001b[39mself\u001b[39m\u001b[39m.\u001b[39m_storage[cursor] \u001b[39m=\u001b[39m data\n",
            "File \u001b[0;32m~/.conda/envs/torch_rl/lib/python3.9/site-packages/torchrl/data/replay_buffers/storages.py:244\u001b[0m, in \u001b[0;36mLazyTensorStorage._init\u001b[0;34m(self, data)\u001b[0m\n\u001b[1;32m    239\u001b[0m     out \u001b[39m=\u001b[39m (\n\u001b[1;32m    240\u001b[0m         data\u001b[39m.\u001b[39mexpand(\u001b[39mself\u001b[39m\u001b[39m.\u001b[39mmax_size, \u001b[39m*\u001b[39mdata\u001b[39m.\u001b[39mshape)\u001b[39m.\u001b[39mclone()\u001b[39m.\u001b[39mzero_()\u001b[39m.\u001b[39mto(\u001b[39mself\u001b[39m\u001b[39m.\u001b[39mdevice)\n\u001b[1;32m    241\u001b[0m     )\n\u001b[1;32m    242\u001b[0m \u001b[39melse\u001b[39;00m:\n\u001b[1;32m    243\u001b[0m     out \u001b[39m=\u001b[39m (\n\u001b[0;32m--> 244\u001b[0m         data\u001b[39m.\u001b[39;49mexpand(\u001b[39mself\u001b[39;49m\u001b[39m.\u001b[39;49mmax_size, \u001b[39m*\u001b[39;49mdata\u001b[39m.\u001b[39;49mshape)\n\u001b[1;32m    245\u001b[0m         \u001b[39m.\u001b[39;49mto_tensordict()\n\u001b[1;32m    246\u001b[0m         \u001b[39m.\u001b[39;49mzero_()\n\u001b[1;32m    247\u001b[0m         \u001b[39m.\u001b[39mclone()\n\u001b[1;32m    248\u001b[0m         \u001b[39m.\u001b[39mto(\u001b[39mself\u001b[39m\u001b[39m.\u001b[39mdevice)\n\u001b[1;32m    249\u001b[0m     )\n\u001b[1;32m    251\u001b[0m \u001b[39mself\u001b[39m\u001b[39m.\u001b[39m_storage \u001b[39m=\u001b[39m out\n\u001b[1;32m    252\u001b[0m \u001b[39mself\u001b[39m\u001b[39m.\u001b[39minitialized \u001b[39m=\u001b[39m \u001b[39mTrue\u001b[39;00m\n",
            "File \u001b[0;32m~/.conda/envs/torch_rl/lib/python3.9/site-packages/tensordict/tensordict.py:2160\u001b[0m, in \u001b[0;36mTensorDictBase.zero_\u001b[0;34m(self)\u001b[0m\n\u001b[1;32m   2158\u001b[0m \u001b[39m\u001b[39m\u001b[39m\"\"\"Zeros all tensors in the tensordict in-place.\"\"\"\u001b[39;00m\n\u001b[1;32m   2159\u001b[0m \u001b[39mfor\u001b[39;00m key \u001b[39min\u001b[39;00m \u001b[39mself\u001b[39m\u001b[39m.\u001b[39mkeys():\n\u001b[0;32m-> 2160\u001b[0m     \u001b[39mself\u001b[39;49m\u001b[39m.\u001b[39;49mfill_(key, \u001b[39m0\u001b[39;49m)\n\u001b[1;32m   2161\u001b[0m \u001b[39mreturn\u001b[39;00m \u001b[39mself\u001b[39m\n",
            "File \u001b[0;32m~/.conda/envs/torch_rl/lib/python3.9/site-packages/tensordict/tensordict.py:3177\u001b[0m, in \u001b[0;36mTensorDictBase.fill_\u001b[0;34m(self, key, value)\u001b[0m\n\u001b[1;32m   3175\u001b[0m \u001b[39mif\u001b[39;00m is_tensor_collection(target_class):\n\u001b[1;32m   3176\u001b[0m     tensordict \u001b[39m=\u001b[39m \u001b[39mself\u001b[39m\u001b[39m.\u001b[39mget(key)\n\u001b[0;32m-> 3177\u001b[0m     tensordict\u001b[39m.\u001b[39;49mapply_(\u001b[39mlambda\u001b[39;49;00m x: x\u001b[39m.\u001b[39;49mfill_(value))\n\u001b[1;32m   3178\u001b[0m     \u001b[39mself\u001b[39m\u001b[39m.\u001b[39m_set(key, tensordict, inplace\u001b[39m=\u001b[39m\u001b[39mTrue\u001b[39;00m)\n\u001b[1;32m   3179\u001b[0m \u001b[39melse\u001b[39;00m:\n",
            "File \u001b[0;32m~/.conda/envs/torch_rl/lib/python3.9/site-packages/tensordict/tensordict.py:1257\u001b[0m, in \u001b[0;36mTensorDictBase.apply_\u001b[0;34m(self, fn)\u001b[0m\n\u001b[1;32m   1246\u001b[0m \u001b[39mdef\u001b[39;00m \u001b[39mapply_\u001b[39m(\u001b[39mself\u001b[39m, fn: Callable) \u001b[39m-\u001b[39m\u001b[39m>\u001b[39m TensorDictBase:\n\u001b[1;32m   1247\u001b[0m \u001b[39m    \u001b[39m\u001b[39m\"\"\"Applies a callable to all values stored in the tensordict and re-writes them in-place.\u001b[39;00m\n\u001b[1;32m   1248\u001b[0m \n\u001b[1;32m   1249\u001b[0m \u001b[39m    Args:\u001b[39;00m\n\u001b[0;32m   (...)\u001b[0m\n\u001b[1;32m   1255\u001b[0m \n\u001b[1;32m   1256\u001b[0m \u001b[39m    \"\"\"\u001b[39;00m\n\u001b[0;32m-> 1257\u001b[0m     \u001b[39mreturn\u001b[39;00m \u001b[39mself\u001b[39;49m\u001b[39m.\u001b[39;49mapply(fn, inplace\u001b[39m=\u001b[39;49m\u001b[39mTrue\u001b[39;49;00m)\n",
            "File \u001b[0;32m~/.conda/envs/torch_rl/lib/python3.9/site-packages/tensordict/tensordict.py:1342\u001b[0m, in \u001b[0;36mTensorDictBase.apply\u001b[0;34m(self, fn, batch_size, names, inplace, *others, **constructor_kwargs)\u001b[0m\n\u001b[1;32m   1334\u001b[0m     item_trsf \u001b[39m=\u001b[39m item\u001b[39m.\u001b[39mapply(\n\u001b[1;32m   1335\u001b[0m         fn,\n\u001b[1;32m   1336\u001b[0m         \u001b[39m*\u001b[39m_others,\n\u001b[0;32m   (...)\u001b[0m\n\u001b[1;32m   1339\u001b[0m         \u001b[39m*\u001b[39m\u001b[39m*\u001b[39mconstructor_kwargs,\n\u001b[1;32m   1340\u001b[0m     )\n\u001b[1;32m   1341\u001b[0m \u001b[39melse\u001b[39;00m:\n\u001b[0;32m-> 1342\u001b[0m     item_trsf \u001b[39m=\u001b[39m fn(item, \u001b[39m*\u001b[39;49m_others)\n\u001b[1;32m   1343\u001b[0m \u001b[39mif\u001b[39;00m item_trsf \u001b[39mis\u001b[39;00m \u001b[39mnot\u001b[39;00m \u001b[39mNone\u001b[39;00m:\n\u001b[1;32m   1344\u001b[0m     \u001b[39m# if `self` is a `SubTensorDict` we want to process the input,\u001b[39;00m\n\u001b[1;32m   1345\u001b[0m     \u001b[39m# hence we call `set` rather than `_set`.\u001b[39;00m\n\u001b[1;32m   1346\u001b[0m     \u001b[39mif\u001b[39;00m \u001b[39misinstance\u001b[39m(\u001b[39mself\u001b[39m, SubTensorDict):\n",
            "File \u001b[0;32m~/.conda/envs/torch_rl/lib/python3.9/site-packages/tensordict/tensordict.py:3177\u001b[0m, in \u001b[0;36mTensorDictBase.fill_.<locals>.<lambda>\u001b[0;34m(x)\u001b[0m\n\u001b[1;32m   3175\u001b[0m \u001b[39mif\u001b[39;00m is_tensor_collection(target_class):\n\u001b[1;32m   3176\u001b[0m     tensordict \u001b[39m=\u001b[39m \u001b[39mself\u001b[39m\u001b[39m.\u001b[39mget(key)\n\u001b[0;32m-> 3177\u001b[0m     tensordict\u001b[39m.\u001b[39mapply_(\u001b[39mlambda\u001b[39;00m x: x\u001b[39m.\u001b[39;49mfill_(value))\n\u001b[1;32m   3178\u001b[0m     \u001b[39mself\u001b[39m\u001b[39m.\u001b[39m_set(key, tensordict, inplace\u001b[39m=\u001b[39m\u001b[39mTrue\u001b[39;00m)\n\u001b[1;32m   3179\u001b[0m \u001b[39melse\u001b[39;00m:\n",
            "\u001b[0;31mKeyboardInterrupt\u001b[0m: "
          ]
        }
      ],
      "source": [
        "from torchrl.data import LazyTensorStorage, LazyMemmapStorage, ListStorage, TensorDictPrioritizedReplayBuffer\n",
        "\n",
        "\n",
        "rb = TensorDictPrioritizedReplayBuffer(\n",
        "                alpha = 1.0,#0.7,\n",
        "                beta = 1.0,#1.1,\n",
        "                priority_key=\"td_error\",\n",
        "                #storage=ListStorage(self.buffer_size),\n",
        "                storage=LazyTensorStorage(1000),\n",
        "                #collate_fn=lambda x: x, \n",
        "                batch_size=10,\n",
        "            )\n",
        "\n",
        "indices = rb.add(data)"
      ]
    },
    {
      "cell_type": "markdown",
      "metadata": {},
      "source": [
        "We see that using a prioritized replay buffer requires a series of extra\n",
        "steps in the training loop compared with a regular buffer:\n",
        "- After collecting data and extending the buffer, the priority of the\n",
        "  items must be updated;\n",
        "- After computing the loss and getting a \"priority signal\" from it, we must\n",
        "  update again the priority of the items in the buffer.\n",
        "  This requires us to keep track of the indices.\n",
        "\n",
        "This drastically hampers the reusability of the buffer: if one is to write\n",
        "a training script where both a prioritized and a regular buffer can be\n",
        "created, she must add a considerable amount of control flow to make sure\n",
        "that the appropriate methods are called at the appropriate place, if and\n",
        "only if a prioritized buffer is being used.\n",
        "\n",
        "Let us see how we can improve this with TensorDict. We saw that the\n",
        ":class:`torchrl.data.TensorDictReplayBuffer` returns data augmented with\n",
        "their relative storage indices. One feature we did not mention is that\n",
        "this class also ensures that the priority\n",
        "signal is automatically parsed to the prioritized sampler if present during\n",
        "extension.\n",
        "\n",
        "The combination of these features simplifies things in several ways:\n",
        "- When extending the buffer, the priority signal will automatically be\n",
        "  parsed if present and the priority will accurately be assigned;\n",
        "- The indices will be stored in the sampled tensordicts, making it easy to\n",
        "  update the priority after the loss computation.\n",
        "- When computing the loss, the priority signal will be registered in the\n",
        "  tensordict passed to the loss module, making it possible to update the\n",
        "  weights without effort:\n",
        "\n",
        "     >>> data = replay_buffer.sample()\n",
        "     >>> loss_val = loss_module(data)\n",
        "     >>> replay_buffer.update_tensordict_priority(data)\n",
        "\n",
        "The following code illustrates these concepts. We build a replay buffer with\n",
        "a prioritized sampler, and indicate in the constructor the entry where\n",
        "the priority signal should be fetched:\n",
        "\n"
      ]
    },
    {
      "cell_type": "code",
      "execution_count": 27,
      "metadata": {
        "collapsed": false
      },
      "outputs": [],
      "source": [
        "rb = TensorDictReplayBuffer(\n",
        "    storage=ListStorage(size),\n",
        "    sampler=PrioritizedSampler(size, alpha=0.8, beta=1.1),\n",
        "    priority_key=\"td_error\",\n",
        "    batch_size=1024,\n",
        ")"
      ]
    },
    {
      "cell_type": "markdown",
      "metadata": {},
      "source": [
        "Let us choose a priority signal that is proportional to the storage index:\n",
        "\n",
        "\n"
      ]
    },
    {
      "cell_type": "code",
      "execution_count": 28,
      "metadata": {
        "collapsed": false
      },
      "outputs": [],
      "source": [
        "data[\"td_error\"] = torch.arange(data.numel())\n",
        "\n",
        "rb.extend(data)\n",
        "\n",
        "sample = rb.sample()"
      ]
    },
    {
      "cell_type": "markdown",
      "metadata": {},
      "source": [
        "higher indices should occur more frequently:\n",
        "\n"
      ]
    },
    {
      "cell_type": "code",
      "execution_count": 29,
      "metadata": {
        "collapsed": false
      },
      "outputs": [
        {
          "data": {
            "text/plain": [
              "(array([ 15.,  38.,  51.,  85.,  99., 117., 150., 130., 176., 163.]),\n",
              " array([  1. ,  13.6,  26.2,  38.8,  51.4,  64. ,  76.6,  89.2, 101.8,\n",
              "        114.4, 127. ]),\n",
              " <BarContainer object of 10 artists>)"
            ]
          },
          "execution_count": 29,
          "metadata": {},
          "output_type": "execute_result"
        },
        {
          "data": {
            "image/png": "[encoded data removed]",
            "text/plain": [
              "<Figure size 640x480 with 1 Axes>"
            ]
          },
          "metadata": {},
          "output_type": "display_data"
        }
      ],
      "source": [
        "from matplotlib import pyplot as plt\n",
        "\n",
        "plt.hist(sample[\"index\"].numpy())"
      ]
    },
    {
      "cell_type": "markdown",
      "metadata": {},
      "source": [
        "Once we have worked with our sample, we update the priority key using\n",
        "the :meth:`torchrl.data.TensorDictReplayBuffer.update_tensordict_priority`\n",
        "method.\n",
        "For the sake of showing how this works, let us revert the priority of the\n",
        "sampled items:\n",
        "\n",
        "\n"
      ]
    },
    {
      "cell_type": "code",
      "execution_count": 30,
      "metadata": {
        "collapsed": false
      },
      "outputs": [],
      "source": [
        "sample = rb.sample()\n",
        "sample[\"td_error\"] = data.numel() - sample[\"index\"]\n",
        "rb.update_tensordict_priority(sample)"
      ]
    },
    {
      "cell_type": "markdown",
      "metadata": {},
      "source": [
        "Now, higher indices should occur less frequently:\n",
        "\n"
      ]
    },
    {
      "cell_type": "code",
      "execution_count": 31,
      "metadata": {
        "collapsed": false
      },
      "outputs": [
        {
          "data": {
            "text/plain": [
              "(array([166., 173., 125., 132., 130.,  97.,  81.,  55.,  34.,  31.]),\n",
              " array([  1. ,  13.4,  25.8,  38.2,  50.6,  63. ,  75.4,  87.8, 100.2,\n",
              "        112.6, 125. ]),\n",
              " <BarContainer object of 10 artists>)"
            ]
          },
          "execution_count": 31,
          "metadata": {},
          "output_type": "execute_result"
        },
        {
          "data": {
            "image/png": "[encoded data removed]",
            "text/plain": [
              "<Figure size 640x480 with 1 Axes>"
            ]
          },
          "metadata": {},
          "output_type": "display_data"
        }
      ],
      "source": [
        "sample = rb.sample()\n",
        "from matplotlib import pyplot as plt\n",
        "\n",
        "plt.hist(sample[\"index\"].numpy())"
      ]
    },
    {
      "cell_type": "markdown",
      "metadata": {},
      "source": [
        "## Using transforms\n",
        "\n",
        "The data stored in a replay buffer may not be ready to be presented to a\n",
        "loss module.\n",
        "In some cases, the data produced by a collector can be too heavy to be\n",
        "saved as-is. Examples of this include converting images from ``uint8`` to\n",
        "floating point tensors, or concatenating successive frames when using\n",
        "decision transformers.\n",
        "\n",
        "Data can be processed in and out of a buffer just by appending the\n",
        "appropriate transform to it.\n",
        "Here are a few examples:\n",
        "\n",
        "### Saving raw images\n",
        "\n",
        "``uint8``-typed tensors are comparatively much less memory expensive than\n",
        "the floating point tensors we usually feed to our models. For this reason,\n",
        "it can be useful to save the raw images.\n",
        "The following script show how one can build a collector that returns only\n",
        "the raw images but uses the transformed ones for inference, and how these\n",
        "transformations can be recycled in the replay buffer:\n",
        "\n"
      ]
    },
    {
      "cell_type": "code",
      "execution_count": 32,
      "metadata": {
        "collapsed": false
      },
      "outputs": [],
      "source": [
        "from torchrl.collectors import RandomPolicy, SyncDataCollector\n",
        "from torchrl.envs import Compose, GrayScale, Resize, ToTensorImage, TransformedEnv\n",
        "from torchrl.envs.libs.gym import GymEnv\n",
        "\n",
        "env = TransformedEnv(\n",
        "    GymEnv(\"CartPole-v1\", from_pixels=True),\n",
        "    Compose(\n",
        "        ToTensorImage(in_keys=[\"pixels\"], out_keys=[\"pixels_trsf\"]),\n",
        "        Resize(in_keys=[\"pixels_trsf\"], w=64, h=64),\n",
        "        GrayScale(in_keys=[\"pixels_trsf\"]),\n",
        "    ),\n",
        ")"
      ]
    },
    {
      "cell_type": "markdown",
      "metadata": {},
      "source": [
        "let us have a look at a rollout:\n",
        "\n"
      ]
    },
    {
      "cell_type": "code",
      "execution_count": 33,
      "metadata": {
        "collapsed": false
      },
      "outputs": [
        {
          "name": "stdout",
          "output_type": "stream",
          "text": [
            "TensorDict(\n",
            "    fields={\n",
            "        action: Tensor(shape=torch.Size([3, 2]), device=cpu, dtype=torch.int64, is_shared=False),\n",
            "        done: Tensor(shape=torch.Size([3, 1]), device=cpu, dtype=torch.bool, is_shared=False),\n",
            "        next: TensorDict(\n",
            "            fields={\n",
            "                done: Tensor(shape=torch.Size([3, 1]), device=cpu, dtype=torch.bool, is_shared=False),\n",
            "                pixels: Tensor(shape=torch.Size([3, 400, 600, 3]), device=cpu, dtype=torch.uint8, is_shared=False),\n",
            "                pixels_trsf: Tensor(shape=torch.Size([3, 1, 64, 64]), device=cpu, dtype=torch.float32, is_shared=False),\n",
            "                reward: Tensor(shape=torch.Size([3, 1]), device=cpu, dtype=torch.float32, is_shared=False)},\n",
            "            batch_size=torch.Size([3]),\n",
            "            device=cpu,\n",
            "            is_shared=False),\n",
            "        pixels: Tensor(shape=torch.Size([3, 400, 600, 3]), device=cpu, dtype=torch.uint8, is_shared=False),\n",
            "        pixels_trsf: Tensor(shape=torch.Size([3, 1, 64, 64]), device=cpu, dtype=torch.float32, is_shared=False)},\n",
            "    batch_size=torch.Size([3]),\n",
            "    device=cpu,\n",
            "    is_shared=False)\n"
          ]
        }
      ],
      "source": [
        "print(env.rollout(3))"
      ]
    },
    {
      "cell_type": "markdown",
      "metadata": {},
      "source": [
        "We have just created an environment that produces pixels. These images\n",
        "are processed to be fed to a policy.\n",
        "We would like to store the raw images, and not their transforms.\n",
        "To do this, we will append a transform to the collector to select the keys\n",
        "we want to see appearing:\n",
        "\n"
      ]
    },
    {
      "cell_type": "code",
      "execution_count": 34,
      "metadata": {
        "collapsed": false
      },
      "outputs": [],
      "source": [
        "from torchrl.envs import ExcludeTransform\n",
        "\n",
        "collector = SyncDataCollector(\n",
        "    env,\n",
        "    RandomPolicy(env.action_spec),\n",
        "    frames_per_batch=10,\n",
        "    total_frames=1000,\n",
        "    postproc=ExcludeTransform(\"pixels_trsf\", (\"next\", \"pixels_trsf\"), \"collector\"),\n",
        ")"
      ]
    },
    {
      "cell_type": "markdown",
      "metadata": {},
      "source": [
        "Let us have a look at a batch of data, and control that the\n",
        "``\"pixels_trsf\"`` keys have been discarded:\n",
        "\n"
      ]
    },
    {
      "cell_type": "code",
      "execution_count": 35,
      "metadata": {
        "collapsed": false
      },
      "outputs": [
        {
          "name": "stdout",
          "output_type": "stream",
          "text": [
            "TensorDict(\n",
            "    fields={\n",
            "        action: Tensor(shape=torch.Size([10, 2]), device=cpu, dtype=torch.int64, is_shared=False),\n",
            "        done: Tensor(shape=torch.Size([10, 1]), device=cpu, dtype=torch.bool, is_shared=False),\n",
            "        next: TensorDict(\n",
            "            fields={\n",
            "                done: Tensor(shape=torch.Size([10, 1]), device=cpu, dtype=torch.bool, is_shared=False),\n",
            "                pixels: Tensor(shape=torch.Size([10, 400, 600, 3]), device=cpu, dtype=torch.uint8, is_shared=False),\n",
            "                reward: Tensor(shape=torch.Size([10, 1]), device=cpu, dtype=torch.float32, is_shared=False)},\n",
            "            batch_size=torch.Size([10]),\n",
            "            device=cpu,\n",
            "            is_shared=False),\n",
            "        pixels: Tensor(shape=torch.Size([10, 400, 600, 3]), device=cpu, dtype=torch.uint8, is_shared=False)},\n",
            "    batch_size=torch.Size([10]),\n",
            "    device=cpu,\n",
            "    is_shared=False)\n"
          ]
        }
      ],
      "source": [
        "for data in collector:\n",
        "    print(data)\n",
        "    break"
      ]
    },
    {
      "cell_type": "markdown",
      "metadata": {},
      "source": [
        "We create a replay buffer with the same transform as the environment.\n",
        "There is, however, a detail that needs to be addressed: transforms\n",
        "used without environments are oblivious to the data structure.\n",
        "When appending a transform to an environment, the data in the ``\"next\"``\n",
        "nested tensordict is transformed first and then copied at the root during\n",
        "the rollout execution. When working with static data, this is not the case.\n",
        "Nevertheless, our data comes with a nested \"next\" tensordict that will be\n",
        "ignored by our transform if we don't explicitly instruct it to take care of\n",
        "it. We manually add these keys to the transform:\n",
        "\n"
      ]
    },
    {
      "cell_type": "code",
      "execution_count": 36,
      "metadata": {
        "collapsed": false
      },
      "outputs": [
        {
          "data": {
            "text/plain": [
              "array([0, 1, 2, 3, 4, 5, 6, 7, 8, 9])"
            ]
          },
          "execution_count": 36,
          "metadata": {},
          "output_type": "execute_result"
        }
      ],
      "source": [
        "t = Compose(\n",
        "    ToTensorImage(\n",
        "        in_keys=[\"pixels\", (\"next\", \"pixels\")],\n",
        "        out_keys=[\"pixels_trsf\", (\"next\", \"pixels_trsf\")],\n",
        "    ),\n",
        "    Resize(in_keys=[\"pixels_trsf\", (\"next\", \"pixels_trsf\")], w=64, h=64),\n",
        "    GrayScale(in_keys=[\"pixels_trsf\", (\"next\", \"pixels_trsf\")]),\n",
        ")\n",
        "rb = TensorDictReplayBuffer(storage=LazyMemmapStorage(1000), transform=t, batch_size=16)\n",
        "rb.extend(data)"
      ]
    },
    {
      "cell_type": "markdown",
      "metadata": {},
      "source": [
        "We can check that a ``sample`` method sees the transformed images reappear:\n",
        "\n",
        "\n"
      ]
    },
    {
      "cell_type": "code",
      "execution_count": 37,
      "metadata": {
        "collapsed": false
      },
      "outputs": [
        {
          "name": "stdout",
          "output_type": "stream",
          "text": [
            "TensorDict(\n",
            "    fields={\n",
            "        action: MemmapTensor(shape=torch.Size([16, 2]), device=cpu, dtype=torch.int64, is_shared=False),\n",
            "        done: MemmapTensor(shape=torch.Size([16, 1]), device=cpu, dtype=torch.bool, is_shared=False),\n",
            "        index: Tensor(shape=torch.Size([16]), device=cpu, dtype=torch.int64, is_shared=False),\n",
            "        next: TensorDict(\n",
            "            fields={\n",
            "                done: MemmapTensor(shape=torch.Size([16, 1]), device=cpu, dtype=torch.bool, is_shared=False),\n",
            "                pixels: MemmapTensor(shape=torch.Size([16, 400, 600, 3]), device=cpu, dtype=torch.uint8, is_shared=False),\n",
            "                pixels_trsf: Tensor(shape=torch.Size([16, 1, 64, 64]), device=cpu, dtype=torch.float32, is_shared=False),\n",
            "                reward: MemmapTensor(shape=torch.Size([16, 1]), device=cpu, dtype=torch.float32, is_shared=False)},\n",
            "            batch_size=torch.Size([16]),\n",
            "            device=cpu,\n",
            "            is_shared=False),\n",
            "        pixels: MemmapTensor(shape=torch.Size([16, 400, 600, 3]), device=cpu, dtype=torch.uint8, is_shared=False),\n",
            "        pixels_trsf: Tensor(shape=torch.Size([16, 1, 64, 64]), device=cpu, dtype=torch.float32, is_shared=False)},\n",
            "    batch_size=torch.Size([16]),\n",
            "    device=cpu,\n",
            "    is_shared=False)\n"
          ]
        }
      ],
      "source": [
        "print(rb.sample())"
      ]
    },
    {
      "cell_type": "markdown",
      "metadata": {},
      "source": [
        "### A more complex examples: using CatFrames\n",
        "\n",
        "The :class:`torchrl.envs.CatFrames` transform unfolds the observations\n",
        "through time, creating a n-back memory of past events that allow the model\n",
        "to take the past events into account (in the case of POMDPs or with\n",
        "recurrent policies such as Decision Transformers). Storing these concatenated\n",
        "frames can consume a considerable amount of memory. It can also be\n",
        "problematic when the n-back window needs to be different (usually longer)\n",
        "during training and inference. We solve this problem by executing the\n",
        "``CatFrames`` transform separately in the two phases.\n",
        "\n"
      ]
    },
    {
      "cell_type": "code",
      "execution_count": 38,
      "metadata": {
        "collapsed": false
      },
      "outputs": [],
      "source": [
        "from torchrl.envs import CatFrames, UnsqueezeTransform"
      ]
    },
    {
      "cell_type": "markdown",
      "metadata": {},
      "source": [
        "We create a standard list of transforms for environments that return pixel-based\n",
        "observations:\n",
        "\n"
      ]
    },
    {
      "cell_type": "code",
      "execution_count": 39,
      "metadata": {
        "collapsed": false
      },
      "outputs": [
        {
          "name": "stdout",
          "output_type": "stream",
          "text": [
            "TensorDict(\n",
            "    fields={\n",
            "        action: Tensor(shape=torch.Size([10, 2]), device=cpu, dtype=torch.int64, is_shared=False),\n",
            "        collector: TensorDict(\n",
            "            fields={\n",
            "                traj_ids: Tensor(shape=torch.Size([10]), device=cpu, dtype=torch.int64, is_shared=False)},\n",
            "            batch_size=torch.Size([10]),\n",
            "            device=cpu,\n",
            "            is_shared=False),\n",
            "        done: Tensor(shape=torch.Size([10, 1]), device=cpu, dtype=torch.bool, is_shared=False),\n",
            "        next: TensorDict(\n",
            "            fields={\n",
            "                done: Tensor(shape=torch.Size([10, 1]), device=cpu, dtype=torch.bool, is_shared=False),\n",
            "                pixels: Tensor(shape=torch.Size([10, 400, 600, 3]), device=cpu, dtype=torch.uint8, is_shared=False),\n",
            "                pixels_trsf: Tensor(shape=torch.Size([10, 4, 1, 64, 64]), device=cpu, dtype=torch.float32, is_shared=False),\n",
            "                reward: Tensor(shape=torch.Size([10, 1]), device=cpu, dtype=torch.float32, is_shared=False)},\n",
            "            batch_size=torch.Size([10]),\n",
            "            device=cpu,\n",
            "            is_shared=False),\n",
            "        pixels: Tensor(shape=torch.Size([10, 400, 600, 3]), device=cpu, dtype=torch.uint8, is_shared=False),\n",
            "        pixels_trsf: Tensor(shape=torch.Size([10, 4, 1, 64, 64]), device=cpu, dtype=torch.float32, is_shared=False)},\n",
            "    batch_size=torch.Size([10]),\n",
            "    device=cpu,\n",
            "    is_shared=False)\n"
          ]
        }
      ],
      "source": [
        "env = TransformedEnv(\n",
        "    GymEnv(\"CartPole-v1\", from_pixels=True),\n",
        "    Compose(\n",
        "        ToTensorImage(in_keys=[\"pixels\"], out_keys=[\"pixels_trsf\"]),\n",
        "        Resize(in_keys=[\"pixels_trsf\"], w=64, h=64),\n",
        "        GrayScale(in_keys=[\"pixels_trsf\"]),\n",
        "        UnsqueezeTransform(-4, in_keys=[\"pixels_trsf\"]),\n",
        "        CatFrames(dim=-4, N=4, in_keys=[\"pixels_trsf\"]),\n",
        "    ),\n",
        ")\n",
        "collector = SyncDataCollector(\n",
        "    env,\n",
        "    RandomPolicy(env.action_spec),\n",
        "    frames_per_batch=10,\n",
        "    total_frames=1000,\n",
        ")\n",
        "for data in collector:\n",
        "    print(data)\n",
        "    break"
      ]
    },
    {
      "cell_type": "markdown",
      "metadata": {},
      "source": [
        "The buffer transform looks pretty much like the environment one, but with\n",
        "extra ``(\"next\", ...)`` keys like before:\n",
        "\n",
        "\n"
      ]
    },
    {
      "cell_type": "code",
      "execution_count": 40,
      "metadata": {
        "collapsed": false
      },
      "outputs": [
        {
          "data": {
            "text/plain": [
              "0"
            ]
          },
          "execution_count": 40,
          "metadata": {},
          "output_type": "execute_result"
        }
      ],
      "source": [
        "t = Compose(\n",
        "    ToTensorImage(\n",
        "        in_keys=[\"pixels\", (\"next\", \"pixels\")],\n",
        "        out_keys=[\"pixels_trsf\", (\"next\", \"pixels_trsf\")],\n",
        "    ),\n",
        "    Resize(in_keys=[\"pixels_trsf\", (\"next\", \"pixels_trsf\")], w=64, h=64),\n",
        "    GrayScale(in_keys=[\"pixels_trsf\", (\"next\", \"pixels_trsf\")]),\n",
        "    CatFrames(dim=-4, N=4, in_keys=[\"pixels_trsf\", (\"next\", \"pixels_trsf\")]),\n",
        ")\n",
        "rb = TensorDictReplayBuffer(storage=LazyMemmapStorage(1000), transform=t, batch_size=16)\n",
        "data_exclude = data.exclude(\"pixels_trsf\", (\"next\", \"pixels_trsf\"))\n",
        "rb.add(data_exclude)"
      ]
    },
    {
      "cell_type": "markdown",
      "metadata": {},
      "source": [
        "Let us sample one element from the buffer. The shape of the transformed\n",
        "pixel keys should have a length of 4 along the 4th dimension starting from\n",
        "the end:\n",
        "\n",
        "\n"
      ]
    },
    {
      "cell_type": "code",
      "execution_count": 41,
      "metadata": {
        "collapsed": false
      },
      "outputs": [
        {
          "name": "stdout",
          "output_type": "stream",
          "text": [
            "TensorDict(\n",
            "    fields={\n",
            "        action: MemmapTensor(shape=torch.Size([1, 10, 2]), device=cpu, dtype=torch.int64, is_shared=False),\n",
            "        collector: TensorDict(\n",
            "            fields={\n",
            "                traj_ids: MemmapTensor(shape=torch.Size([1, 10]), device=cpu, dtype=torch.int64, is_shared=False)},\n",
            "            batch_size=torch.Size([1, 10]),\n",
            "            device=cpu,\n",
            "            is_shared=False),\n",
            "        done: MemmapTensor(shape=torch.Size([1, 10, 1]), device=cpu, dtype=torch.bool, is_shared=False),\n",
            "        index: Tensor(shape=torch.Size([1, 10]), device=cpu, dtype=torch.int64, is_shared=False),\n",
            "        next: TensorDict(\n",
            "            fields={\n",
            "                done: MemmapTensor(shape=torch.Size([1, 10, 1]), device=cpu, dtype=torch.bool, is_shared=False),\n",
            "                pixels: MemmapTensor(shape=torch.Size([1, 10, 400, 600, 3]), device=cpu, dtype=torch.uint8, is_shared=False),\n",
            "                pixels_trsf: Tensor(shape=torch.Size([1, 10, 4, 1, 64, 64]), device=cpu, dtype=torch.float32, is_shared=False),\n",
            "                reward: MemmapTensor(shape=torch.Size([1, 10, 1]), device=cpu, dtype=torch.float32, is_shared=False)},\n",
            "            batch_size=torch.Size([1, 10]),\n",
            "            device=cpu,\n",
            "            is_shared=False),\n",
            "        pixels: MemmapTensor(shape=torch.Size([1, 10, 400, 600, 3]), device=cpu, dtype=torch.uint8, is_shared=False),\n",
            "        pixels_trsf: Tensor(shape=torch.Size([1, 10, 4, 1, 64, 64]), device=cpu, dtype=torch.float32, is_shared=False)},\n",
            "    batch_size=torch.Size([1, 10]),\n",
            "    device=cpu,\n",
            "    is_shared=False)\n"
          ]
        },
        {
          "name": "stderr",
          "output_type": "stream",
          "text": [
            "/home/nono/.conda/envs/torch_rl/lib/python3.9/site-packages/torchrl/data/replay_buffers/replay_buffers.py:378: UserWarning: Got conflicting batch_sizes in constructor (16) and `sample` (1). Refer to the ReplayBuffer documentation for a proper usage of the batch-size arguments. The batch-size provided to the sample method will prevail.\n",
            "  warnings.warn(\n"
          ]
        }
      ],
      "source": [
        "s = rb.sample(1)  # the buffer has only one element\n",
        "print(s)"
      ]
    },
    {
      "cell_type": "markdown",
      "metadata": {},
      "source": [
        "After a bit of processing (excluding non-used keys etc), we see that the\n",
        "data generated online and offline match!\n",
        "\n"
      ]
    },
    {
      "cell_type": "code",
      "execution_count": 42,
      "metadata": {
        "collapsed": false
      },
      "outputs": [],
      "source": [
        "assert (data.exclude(\"collector\") == s.squeeze(0).exclude(\"index\", \"collector\")).all()"
      ]
    },
    {
      "cell_type": "markdown",
      "metadata": {},
      "source": [
        "## Conclusion\n",
        "\n",
        "We have seen how a replay buffer can be used in TorchRL, from its simplest\n",
        "usage to more advanced ones where the data need to be transformed or stored\n",
        "in particular ways.\n",
        "You should now be able to:\n",
        "\n",
        "- Create a Replay Buffer, customize its storage, sampler and transforms;\n",
        "- Choose the best storage type for your problem (list, memory or disk-based);\n",
        "- Minimize the memory footprint of your buffer.\n",
        "\n",
        "\n"
      ]
    }
  ],
  "metadata": {
    "kernelspec": {
      "display_name": "Python 3",
      "language": "python",
      "name": "python3"
    },
    "language_info": {
      "codemirror_mode": {
        "name": "ipython",
        "version": 3
      },
      "file_extension": ".py",
      "mimetype": "text/x-python",
      "name": "python",
      "nbconvert_exporter": "python",
      "pygments_lexer": "ipython3",
      "version": "3.9.16"
    }
  },
  "nbformat": 4,
  "nbformat_minor": 0
}
